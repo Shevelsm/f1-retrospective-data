{
 "cells": [
  {
   "cell_type": "code",
   "execution_count": 1,
   "metadata": {},
   "outputs": [],
   "source": [
    "from pyspark import SparkConf\n",
    "from pyspark.sql import SparkSession, SQLContext\n",
    "from pyspark.sql.functions import col"
   ]
  },
  {
   "cell_type": "code",
   "execution_count": 2,
   "metadata": {},
   "outputs": [],
   "source": [
    "conf = SparkConf()  # create the configuration\n",
    "conf.set(\"spark.jars\", \"./*.jar\")  # set the spark.jars\n",
    "\n",
    "spark = SparkSession.builder \\\n",
    "        .config(conf=conf) \\\n",
    "        .master(\"local\") \\\n",
    "        .appName(\"ETL_F1_data\") \\\n",
    "        .getOrCreate()\n",
    "\n",
    "sc = spark.sparkContext\n",
    "sqlContext = SQLContext(sc)"
   ]
  },
  {
   "cell_type": "markdown",
   "metadata": {},
   "source": [
    "# Collecting raw data from mysql"
   ]
  },
  {
   "cell_type": "markdown",
   "metadata": {},
   "source": [
    "## circuits"
   ]
  },
  {
   "cell_type": "code",
   "execution_count": 3,
   "metadata": {},
   "outputs": [],
   "source": [
    "circuits_df = sqlContext.read.format('jdbc').options(\n",
    "          url='jdbc:mysql://mysql:3306/raw_data',\n",
    "          driver='com.mysql.jdbc.Driver',\n",
    "          dbtable='circuits',\n",
    "          user='root',\n",
    "          password='mysecretpassword').load()\n",
    "ci = circuits_df.alias(\"cir\")"
   ]
  },
  {
   "cell_type": "code",
   "execution_count": 4,
   "metadata": {},
   "outputs": [
    {
     "name": "stdout",
     "output_type": "stream",
     "text": [
      "+---------+--------------+--------------------+------------+---------+--------+---------+----+--------------------+\n",
      "|circuitId|    circuitRef|                name|    location|  country|     lat|      lng| alt|                 url|\n",
      "+---------+--------------+--------------------+------------+---------+--------+---------+----+--------------------+\n",
      "|        1|   albert_park|Albert Park Grand...|   Melbourne|Australia|-37.8497|  144.968|  10|http://en.wikiped...|\n",
      "|        2|        sepang|Sepang Internatio...|Kuala Lumpur| Malaysia| 2.76083|  101.738|null|http://en.wikiped...|\n",
      "|        3|       bahrain|Bahrain Internati...|      Sakhir|  Bahrain| 26.0325|  50.5106|null|http://en.wikiped...|\n",
      "|        4|     catalunya|Circuit de Barcel...|    Montmeló|    Spain|   41.57|  2.26111|null|http://en.wikiped...|\n",
      "|        5|      istanbul|       Istanbul Park|    Istanbul|   Turkey| 40.9517|   29.405|null|http://en.wikiped...|\n",
      "|        6|        monaco|   Circuit de Monaco| Monte-Carlo|   Monaco| 43.7347|  7.42056|null|http://en.wikiped...|\n",
      "|        7|    villeneuve|Circuit Gilles Vi...|    Montreal|   Canada|    45.5| -73.5228|null|http://en.wikiped...|\n",
      "|        8|   magny_cours|Circuit de Nevers...| Magny Cours|   France| 46.8642|  3.16361|null|http://en.wikiped...|\n",
      "|        9|   silverstone| Silverstone Circuit| Silverstone|       UK| 52.0786| -1.01694|null|http://en.wikiped...|\n",
      "|       10|hockenheimring|      Hockenheimring|  Hockenheim|  Germany| 49.3278|  8.56583|null|http://en.wikiped...|\n",
      "|       11|   hungaroring|         Hungaroring|    Budapest|  Hungary| 47.5789|  19.2486|null|http://en.wikiped...|\n",
      "|       12|      valencia|Valencia Street C...|    Valencia|    Spain| 39.4589|-0.331667|null|http://en.wikiped...|\n",
      "|       13|           spa|Circuit de Spa-Fr...|         Spa|  Belgium| 50.4372|  5.97139|null|http://en.wikiped...|\n",
      "|       14|         monza|Autodromo Naziona...|       Monza|    Italy| 45.6156|  9.28111|null|http://en.wikiped...|\n",
      "|       15|    marina_bay|Marina Bay Street...|  Marina Bay|Singapore|  1.2914|  103.864|null|http://en.wikiped...|\n",
      "|       16|          fuji|       Fuji Speedway|       Oyama|    Japan| 35.3717|  138.927|null|http://en.wikiped...|\n",
      "|       17|      shanghai|Shanghai Internat...|    Shanghai|    China| 31.3389|   121.22|null|http://en.wikiped...|\n",
      "|       18|    interlagos|Autódromo José Ca...|   São Paulo|   Brazil|-23.7036| -46.6997|null|http://en.wikiped...|\n",
      "|       19|  indianapolis|Indianapolis Moto...|Indianapolis|      USA|  39.795| -86.2347|null|http://en.wikiped...|\n",
      "|       20|   nurburgring|         Nürburgring|     Nürburg|  Germany| 50.3356|   6.9475|null|http://en.wikiped...|\n",
      "+---------+--------------+--------------------+------------+---------+--------+---------+----+--------------------+\n",
      "only showing top 20 rows\n",
      "\n"
     ]
    }
   ],
   "source": [
    "ci.show()"
   ]
  },
  {
   "cell_type": "markdown",
   "metadata": {},
   "source": [
    "## constructors"
   ]
  },
  {
   "cell_type": "code",
   "execution_count": 5,
   "metadata": {},
   "outputs": [],
   "source": [
    "constructors_df = sqlContext.read.format('jdbc').options(\n",
    "          url='jdbc:mysql://mysql:3306/raw_data',\n",
    "          driver='com.mysql.jdbc.Driver',\n",
    "          dbtable='constructors',\n",
    "          user='root',\n",
    "          password='mysecretpassword').load()\n",
    "co = constructors_df.alias(\"co\")"
   ]
  },
  {
   "cell_type": "code",
   "execution_count": 6,
   "metadata": {},
   "outputs": [
    {
     "name": "stdout",
     "output_type": "stream",
     "text": [
      "+-------------+--------------+-----------+-----------+--------------------+\n",
      "|constructorId|constructorRef|       name|nationality|                 url|\n",
      "+-------------+--------------+-----------+-----------+--------------------+\n",
      "|            1|       mclaren|    McLaren|    British|http://en.wikiped...|\n",
      "|            2|    bmw_sauber| BMW Sauber|     German|http://en.wikiped...|\n",
      "|            3|      williams|   Williams|    British|http://en.wikiped...|\n",
      "|            4|       renault|    Renault|     French|http://en.wikiped...|\n",
      "|            5|    toro_rosso| Toro Rosso|    Italian|http://en.wikiped...|\n",
      "|            6|       ferrari|    Ferrari|    Italian|http://en.wikiped...|\n",
      "|            7|        toyota|     Toyota|   Japanese|http://en.wikiped...|\n",
      "|            8|   super_aguri|Super Aguri|   Japanese|http://en.wikiped...|\n",
      "|            9|      red_bull|   Red Bull|   Austrian|http://en.wikiped...|\n",
      "|           10|   force_india|Force India|     Indian|http://en.wikiped...|\n",
      "|           11|         honda|      Honda|   Japanese|http://en.wikiped...|\n",
      "|           12|        spyker|     Spyker|      Dutch|http://en.wikiped...|\n",
      "|           13|           mf1|        MF1|    Russian|http://en.wikiped...|\n",
      "|           14|    spyker_mf1| Spyker MF1|      Dutch|http://en.wikiped...|\n",
      "|           15|        sauber|     Sauber|      Swiss|http://en.wikiped...|\n",
      "|           16|           bar|        BAR|    British|http://en.wikiped...|\n",
      "|           17|        jordan|     Jordan|      Irish|http://en.wikiped...|\n",
      "|           18|       minardi|    Minardi|    Italian|http://en.wikiped...|\n",
      "|           19|        jaguar|     Jaguar|    British|http://en.wikiped...|\n",
      "|           20|         prost|      Prost|     French|http://en.wikiped...|\n",
      "+-------------+--------------+-----------+-----------+--------------------+\n",
      "only showing top 20 rows\n",
      "\n"
     ]
    }
   ],
   "source": [
    "co.show()"
   ]
  },
  {
   "cell_type": "markdown",
   "metadata": {},
   "source": [
    "## drivers"
   ]
  },
  {
   "cell_type": "code",
   "execution_count": 7,
   "metadata": {},
   "outputs": [],
   "source": [
    "drivers_df = sqlContext.read.format('jdbc').options(\n",
    "          url='jdbc:mysql://mysql:3306/raw_data',\n",
    "          driver='com.mysql.jdbc.Driver',\n",
    "          dbtable='drivers',\n",
    "          user='root',\n",
    "          password='mysecretpassword').load()\n",
    "dr = drivers_df.alias(\"dr\")"
   ]
  },
  {
   "cell_type": "code",
   "execution_count": 8,
   "metadata": {},
   "outputs": [
    {
     "name": "stdout",
     "output_type": "stream",
     "text": [
      "+--------+----------+------+----+---------+----------+----------+-----------+--------------------+\n",
      "|driverId| driverRef|number|code| forename|   surname|       dob|nationality|                 url|\n",
      "+--------+----------+------+----+---------+----------+----------+-----------+--------------------+\n",
      "|       1|  hamilton|    44| HAM|    Lewis|  Hamilton|1985-01-07|    British|http://en.wikiped...|\n",
      "|       2|  heidfeld|  null| HEI|     Nick|  Heidfeld|1977-05-10|     German|http://en.wikiped...|\n",
      "|       3|   rosberg|     6| ROS|     Nico|   Rosberg|1985-06-27|     German|http://en.wikiped...|\n",
      "|       4|    alonso|    14| ALO| Fernando|    Alonso|1981-07-29|    Spanish|http://en.wikiped...|\n",
      "|       5|kovalainen|  null| KOV|   Heikki|Kovalainen|1981-10-19|    Finnish|http://en.wikiped...|\n",
      "|       6|  nakajima|  null| NAK|   Kazuki|  Nakajima|1985-01-11|   Japanese|http://en.wikiped...|\n",
      "|       7|  bourdais|  null| BOU|Sébastien|  Bourdais|1979-02-28|     French|http://en.wikiped...|\n",
      "|       8| raikkonen|     7| RAI|     Kimi| Räikkönen|1979-10-17|    Finnish|http://en.wikiped...|\n",
      "|       9|    kubica|    88| KUB|   Robert|    Kubica|1984-12-07|     Polish|http://en.wikiped...|\n",
      "|      10|     glock|  null| GLO|     Timo|     Glock|1982-03-18|     German|http://en.wikiped...|\n",
      "|      11|      sato|  null| SAT|   Takuma|      Sato|1977-01-28|   Japanese|http://en.wikiped...|\n",
      "|      12| piquet_jr|  null| PIQ|   Nelson|Piquet Jr.|1985-07-25|  Brazilian|http://en.wikiped...|\n",
      "|      13|     massa|    19| MAS|   Felipe|     Massa|1981-04-25|  Brazilian|http://en.wikiped...|\n",
      "|      14| coulthard|  null| COU|    David| Coulthard|1971-03-27|    British|http://en.wikiped...|\n",
      "|      15|    trulli|  null| TRU|    Jarno|    Trulli|1974-07-13|    Italian|http://en.wikiped...|\n",
      "|      16|     sutil|    99| SUT|   Adrian|     Sutil|1983-01-11|     German|http://en.wikiped...|\n",
      "|      17|    webber|  null| WEB|     Mark|    Webber|1976-08-27| Australian|http://en.wikiped...|\n",
      "|      18|    button|    22| BUT|   Jenson|    Button|1980-01-19|    British|http://en.wikiped...|\n",
      "|      19|  davidson|  null| DAV|  Anthony|  Davidson|1979-04-18|    British|http://en.wikiped...|\n",
      "|      20|    vettel|     5| VET|Sebastian|    Vettel|1987-07-03|     German|http://en.wikiped...|\n",
      "+--------+----------+------+----+---------+----------+----------+-----------+--------------------+\n",
      "only showing top 20 rows\n",
      "\n"
     ]
    }
   ],
   "source": [
    "dr.show()"
   ]
  },
  {
   "cell_type": "markdown",
   "metadata": {},
   "source": [
    "## lapTimes"
   ]
  },
  {
   "cell_type": "code",
   "execution_count": 9,
   "metadata": {},
   "outputs": [],
   "source": [
    "lapTimes_df = sqlContext.read.format('jdbc').options(\n",
    "          url='jdbc:mysql://mysql:3306/raw_data',\n",
    "          driver='com.mysql.jdbc.Driver',\n",
    "          dbtable='lapTimes',\n",
    "          user='root',\n",
    "          password='mysecretpassword').load()\n",
    "lT = lapTimes_df.alias(\"lT\")"
   ]
  },
  {
   "cell_type": "code",
   "execution_count": 10,
   "metadata": {},
   "outputs": [
    {
     "name": "stdout",
     "output_type": "stream",
     "text": [
      "+------+--------+---+--------+--------+------------+\n",
      "|raceId|driverId|lap|position|    time|milliseconds|\n",
      "+------+--------+---+--------+--------+------------+\n",
      "|   841|      20|  1|       1|1:38.109|       98109|\n",
      "|   841|      20|  2|       1|1:33.006|       93006|\n",
      "|   841|      20|  3|       1|1:32.713|       92713|\n",
      "|   841|      20|  4|       1|1:32.803|       92803|\n",
      "|   841|      20|  5|       1|1:32.342|       92342|\n",
      "|   841|      20|  6|       1|1:32.605|       92605|\n",
      "|   841|      20|  7|       1|1:32.502|       92502|\n",
      "|   841|      20|  8|       1|1:32.537|       92537|\n",
      "|   841|      20|  9|       1|1:33.240|       93240|\n",
      "|   841|      20| 10|       1|1:32.572|       92572|\n",
      "|   841|      20| 11|       1|1:32.669|       92669|\n",
      "|   841|      20| 12|       1|1:32.902|       92902|\n",
      "|   841|      20| 13|       1|1:33.698|       93698|\n",
      "|   841|      20| 14|       3|1:52.075|      112075|\n",
      "|   841|      20| 15|       4|1:38.385|       98385|\n",
      "|   841|      20| 16|       2|1:31.548|       91548|\n",
      "|   841|      20| 17|       1|1:30.800|       90800|\n",
      "|   841|      20| 18|       1|1:31.810|       91810|\n",
      "|   841|      20| 19|       1|1:31.018|       91018|\n",
      "|   841|      20| 20|       1|1:31.055|       91055|\n",
      "+------+--------+---+--------+--------+------------+\n",
      "only showing top 20 rows\n",
      "\n"
     ]
    }
   ],
   "source": [
    "lT.show()"
   ]
  },
  {
   "cell_type": "markdown",
   "metadata": {},
   "source": [
    "## races"
   ]
  },
  {
   "cell_type": "code",
   "execution_count": 11,
   "metadata": {},
   "outputs": [],
   "source": [
    "races_df = sqlContext.read.format('jdbc').options(\n",
    "          url='jdbc:mysql://mysql:3306/raw_data',\n",
    "          driver='com.mysql.jdbc.Driver',\n",
    "          dbtable='races',\n",
    "          user='root',\n",
    "          password='mysecretpassword').load()\n",
    "ra = races_df.alias(\"ra\")"
   ]
  },
  {
   "cell_type": "code",
   "execution_count": 12,
   "metadata": {},
   "outputs": [
    {
     "name": "stdout",
     "output_type": "stream",
     "text": [
      "+------+----+-----+---------+--------------------+----------+-------------------+--------------------+\n",
      "|raceId|year|round|circuitId|                name|      date|               time|                 url|\n",
      "+------+----+-----+---------+--------------------+----------+-------------------+--------------------+\n",
      "|     1|2009|    1|        1|Australian Grand ...|2009-03-29|1970-01-01 06:00:00|http://en.wikiped...|\n",
      "|     2|2009|    2|        2|Malaysian Grand Prix|2009-04-05|1970-01-01 09:00:00|http://en.wikiped...|\n",
      "|     3|2009|    3|       17|  Chinese Grand Prix|2009-04-19|1970-01-01 07:00:00|http://en.wikiped...|\n",
      "|     4|2009|    4|        3|  Bahrain Grand Prix|2009-04-26|1970-01-01 12:00:00|http://en.wikiped...|\n",
      "|     5|2009|    5|        4|  Spanish Grand Prix|2009-05-10|1970-01-01 12:00:00|http://en.wikiped...|\n",
      "|     6|2009|    6|        6|   Monaco Grand Prix|2009-05-24|1970-01-01 12:00:00|http://en.wikiped...|\n",
      "|     7|2009|    7|        5|  Turkish Grand Prix|2009-06-07|1970-01-01 12:00:00|http://en.wikiped...|\n",
      "|     8|2009|    8|        9|  British Grand Prix|2009-06-21|1970-01-01 12:00:00|http://en.wikiped...|\n",
      "|     9|2009|    9|       20|   German Grand Prix|2009-07-12|1970-01-01 12:00:00|http://en.wikiped...|\n",
      "|    10|2009|   10|       11|Hungarian Grand Prix|2009-07-26|1970-01-01 12:00:00|http://en.wikiped...|\n",
      "|    11|2009|   11|       12| European Grand Prix|2009-08-23|1970-01-01 12:00:00|http://en.wikiped...|\n",
      "|    12|2009|   12|       13|  Belgian Grand Prix|2009-08-30|1970-01-01 12:00:00|http://en.wikiped...|\n",
      "|    13|2009|   13|       14|  Italian Grand Prix|2009-09-13|1970-01-01 12:00:00|http://en.wikiped...|\n",
      "|    14|2009|   14|       15|Singapore Grand Prix|2009-09-27|1970-01-01 12:00:00|http://en.wikiped...|\n",
      "|    15|2009|   15|       22| Japanese Grand Prix|2009-10-04|1970-01-01 05:00:00|http://en.wikiped...|\n",
      "|    16|2009|   16|       18|Brazilian Grand Prix|2009-10-18|1970-01-01 16:00:00|http://en.wikiped...|\n",
      "|    17|2009|   17|       24|Abu Dhabi Grand Prix|2009-11-01|1970-01-01 11:00:00|http://en.wikiped...|\n",
      "|    18|2008|    1|        1|Australian Grand ...|2008-03-16|1970-01-01 04:30:00|http://en.wikiped...|\n",
      "|    19|2008|    2|        2|Malaysian Grand Prix|2008-03-23|1970-01-01 07:00:00|http://en.wikiped...|\n",
      "|    20|2008|    3|        3|  Bahrain Grand Prix|2008-04-06|1970-01-01 11:30:00|http://en.wikiped...|\n",
      "+------+----+-----+---------+--------------------+----------+-------------------+--------------------+\n",
      "only showing top 20 rows\n",
      "\n"
     ]
    }
   ],
   "source": [
    "ra.show()"
   ]
  },
  {
   "cell_type": "markdown",
   "metadata": {},
   "source": [
    "## results"
   ]
  },
  {
   "cell_type": "code",
   "execution_count": 13,
   "metadata": {},
   "outputs": [],
   "source": [
    "results_df = sqlContext.read.format('jdbc').options(\n",
    "          url='jdbc:mysql://mysql:3306/raw_data',\n",
    "          driver='com.mysql.jdbc.Driver',\n",
    "          dbtable='results',\n",
    "          user='root',\n",
    "          password='mysecretpassword').load()\n",
    "re = results_df.alias(\"re\")"
   ]
  },
  {
   "cell_type": "code",
   "execution_count": 14,
   "metadata": {},
   "outputs": [
    {
     "name": "stdout",
     "output_type": "stream",
     "text": [
      "+--------+------+--------+-------------+------+----+--------+------------+-------------+------+----+-----------+------------+----------+----+--------------+---------------+--------+\n",
      "|resultId|raceId|driverId|constructorId|number|grid|position|positionText|positionOrder|points|laps|       time|milliseconds|fastestLap|rank|fastestLapTime|fastestLapSpeed|statusId|\n",
      "+--------+------+--------+-------------+------+----+--------+------------+-------------+------+----+-----------+------------+----------+----+--------------+---------------+--------+\n",
      "|       1|    18|       1|            1|    22|   1|       1|           1|            1|  10.0|  58|1:34:50.616|     5690616|        39|   2|      1:27.452|        218.300|       1|\n",
      "|       2|    18|       2|            2|     3|   5|       2|           2|            2|   8.0|  58|     +5.478|     5696094|        41|   3|      1:27.739|        217.586|       1|\n",
      "|       3|    18|       3|            3|     7|   7|       3|           3|            3|   6.0|  58|     +8.163|     5698779|        41|   5|      1:28.090|        216.719|       1|\n",
      "|       4|    18|       4|            4|     5|  11|       4|           4|            4|   5.0|  58|    +17.181|     5707797|        58|   7|      1:28.603|        215.464|       1|\n",
      "|       5|    18|       5|            1|    23|   3|       5|           5|            5|   4.0|  58|    +18.014|     5708630|        43|   1|      1:27.418|        218.385|       1|\n",
      "|       6|    18|       6|            3|     8|  13|       6|           6|            6|   3.0|  57|       null|        null|        50|  14|      1:29.639|        212.974|      11|\n",
      "|       7|    18|       7|            5|    14|  17|       7|           7|            7|   2.0|  55|       null|        null|        22|  12|      1:29.534|        213.224|       5|\n",
      "|       8|    18|       8|            6|     1|  15|       8|           8|            8|   1.0|  53|       null|        null|        20|   4|      1:27.903|        217.180|       5|\n",
      "|       9|    18|       9|            2|     4|   2|    null|           R|            9|   0.0|  47|       null|        null|        15|   9|      1:28.753|        215.100|       4|\n",
      "|      10|    18|      10|            7|    12|  18|    null|           R|           10|   0.0|  43|       null|        null|        23|  13|      1:29.558|        213.166|       3|\n",
      "|      11|    18|      11|            8|    18|  19|    null|           R|           11|   0.0|  32|       null|        null|        24|  15|      1:30.892|        210.038|       7|\n",
      "|      12|    18|      12|            4|     6|  20|    null|           R|           12|   0.0|  30|       null|        null|        20|  16|      1:31.384|        208.907|       8|\n",
      "|      13|    18|      13|            6|     2|   4|    null|           R|           13|   0.0|  29|       null|        null|        23|   6|      1:28.175|        216.510|       5|\n",
      "|      14|    18|      14|            9|     9|   8|    null|           R|           14|   0.0|  25|       null|        null|        21|  11|      1:29.502|        213.300|       4|\n",
      "|      15|    18|      15|            7|    11|   6|    null|           R|           15|   0.0|  19|       null|        null|        18|  10|      1:29.310|        213.758|      10|\n",
      "|      16|    18|      16|           10|    20|  22|    null|           R|           16|   0.0|   8|       null|        null|         8|  17|      1:32.021|        207.461|       9|\n",
      "|      17|    18|      17|            9|    10|  14|    null|           R|           17|   0.0|   0|       null|        null|      null|null|          null|           null|       4|\n",
      "|      18|    18|      18|           11|    16|  12|    null|           R|           18|   0.0|   0|       null|        null|      null|null|          null|           null|       4|\n",
      "|      19|    18|      19|            8|    19|  21|    null|           R|           19|   0.0|   0|       null|        null|      null|null|          null|           null|       4|\n",
      "|      20|    18|      20|            5|    15|   9|    null|           R|           20|   0.0|   0|       null|        null|      null|null|          null|           null|       4|\n",
      "+--------+------+--------+-------------+------+----+--------+------------+-------------+------+----+-----------+------------+----------+----+--------------+---------------+--------+\n",
      "only showing top 20 rows\n",
      "\n"
     ]
    }
   ],
   "source": [
    "re.show()"
   ]
  },
  {
   "cell_type": "markdown",
   "metadata": {},
   "source": [
    "## status"
   ]
  },
  {
   "cell_type": "code",
   "execution_count": 15,
   "metadata": {},
   "outputs": [],
   "source": [
    "status_df = sqlContext.read.format('jdbc').options(\n",
    "          url='jdbc:mysql://mysql:3306/raw_data',\n",
    "          driver='com.mysql.jdbc.Driver',\n",
    "          dbtable='status',\n",
    "          user='root',\n",
    "          password='mysecretpassword').load()\n",
    "st = status_df.alias(\"st\")"
   ]
  },
  {
   "cell_type": "code",
   "execution_count": 16,
   "metadata": {},
   "outputs": [
    {
     "name": "stdout",
     "output_type": "stream",
     "text": [
      "+--------+------------+\n",
      "|statusId|      status|\n",
      "+--------+------------+\n",
      "|       1|    Finished|\n",
      "|       2|Disqualified|\n",
      "|       3|    Accident|\n",
      "|       4|   Collision|\n",
      "|       5|      Engine|\n",
      "|       6|     Gearbox|\n",
      "|       7|Transmission|\n",
      "|       8|      Clutch|\n",
      "|       9|  Hydraulics|\n",
      "|      10|  Electrical|\n",
      "|      11|      +1 Lap|\n",
      "|      12|     +2 Laps|\n",
      "|      13|     +3 Laps|\n",
      "|      14|     +4 Laps|\n",
      "|      15|     +5 Laps|\n",
      "|      16|     +6 Laps|\n",
      "|      17|     +7 Laps|\n",
      "|      18|     +8 Laps|\n",
      "|      19|     +9 Laps|\n",
      "|      20|    Spun off|\n",
      "+--------+------------+\n",
      "only showing top 20 rows\n",
      "\n"
     ]
    }
   ],
   "source": [
    "st.show()"
   ]
  },
  {
   "cell_type": "markdown",
   "metadata": {},
   "source": [
    "# Transform data"
   ]
  },
  {
   "cell_type": "code",
   "execution_count": 17,
   "metadata": {},
   "outputs": [],
   "source": [
    "gp_results_df = re.join(dr, re.driverId == dr.driverId, how=\"inner\") \\\n",
    "    .join(ra, re.raceId == ra.raceId, how=\"inner\") \\\n",
    "    .join(co, re.constructorId == co.constructorId, how=\"inner\") \\\n",
    "    .join(st, re.statusId == st.statusId, how=\"inner\") \\\n",
    "    .where(col(\"position\").isNotNull()) \\\n",
    "    .select(\n",
    "        ra.year.alias(\"season\"),\n",
    "        ra.name.alias(\"grand_prix\"),\n",
    "        re.position.alias(\"pos_num\"),\n",
    "        re.points,\n",
    "        dr.driverRef.alias(\"driver\"),\n",
    "        dr.nationality.alias(\"driver_nation\"),\n",
    "        co.constructorRef.alias(\"constructor\"),\n",
    "        co.nationality.alias(\"constructor_nation\"),\n",
    "        st.status\n",
    ")\n",
    "gr = gp_results_df.alias(\"gr\")"
   ]
  },
  {
   "cell_type": "code",
   "execution_count": 18,
   "metadata": {},
   "outputs": [
    {
     "name": "stdout",
     "output_type": "stream",
     "text": [
      "+------+--------------------+-------+------+------------------+-------------+---------------+------------------+---------+\n",
      "|season|          grand_prix|pos_num|points|            driver|driver_nation|    constructor|constructor_nation|   status|\n",
      "+------+--------------------+-------+------+------------------+-------------+---------------+------------------+---------+\n",
      "|  2019|   French Grand Prix|     20|   0.0|          grosjean|       French|           haas|          American|  Retired|\n",
      "|  2018|   German Grand Prix|     16|   0.0|            alonso|      Spanish|        mclaren|           British|  Retired|\n",
      "|  2012|Singapore Grand Prix|     18|   0.0|       bruno_senna|    Brazilian|       williams|           British|  Retired|\n",
      "|  2013|Malaysian Grand Prix|     18|   0.0|         ricciardo|   Australian|     toro_rosso|           Italian|  Retired|\n",
      "|  2012|   Indian Grand Prix|     22|   0.0|michael_schumacher|       German|       mercedes|            German|  Retired|\n",
      "|  2013|  British Grand Prix|     19|   0.0|          grosjean|       French|       lotus_f1|           British|  Retired|\n",
      "|  2010|Abu Dhabi Grand Prix|     21|   0.0|            trulli|      Italian|   lotus_racing|         Malaysian|Rear wing|\n",
      "|  1953|  Italian Grand Prix|     15|   0.0|         cabantous|       French|            hwm|           British| +13 Laps|\n",
      "|  1951|  Italian Grand Prix|      9|   0.0|               rol|      Italian|           osca|           Italian| +13 Laps|\n",
      "|  1958|   French Grand Prix|     11|   0.0|         salvadori|      British|         cooper|           British| +13 Laps|\n",
      "|  1956|  British Grand Prix|     11|   0.0|            gerard|      British|         cooper|           British| +13 Laps|\n",
      "|  1960|   French Grand Prix|      9|   0.0|           gregory|     American|cooper-maserati|           British| +13 Laps|\n",
      "|  1952|    Indianapolis 500|     18|   0.0|         stevenson|     American|   kurtis_kraft|          American| +13 Laps|\n",
      "|  1956|    Indianapolis 500|     18|   0.0|            connor|     American|   kurtis_kraft|          American| +13 Laps|\n",
      "|  1950|    Indianapolis 500|     21|   0.0|              hoyt|     American|   kurtis_kraft|          American| +13 Laps|\n",
      "|  1958|   Monaco Grand Prix|      6|   0.0|           allison|      British|     team_lotus|           British| +13 Laps|\n",
      "|  1955|Argentine Grand Prix|      7|   0.0|            schell|     American|       maserati|           Italian| +13 Laps|\n",
      "|  1955|Argentine Grand Prix|      7|   0.0|             musso|      Italian|       maserati|           Italian| +13 Laps|\n",
      "|  1955|Argentine Grand Prix|      7|   0.0|         mantovani|      Italian|       maserati|           Italian| +13 Laps|\n",
      "|  1953|  Italian Grand Prix|     14|   0.0|        hans_stuck|       German|            afm|            German| +13 Laps|\n",
      "+------+--------------------+-------+------+------------------+-------------+---------------+------------------+---------+\n",
      "only showing top 20 rows\n",
      "\n"
     ]
    }
   ],
   "source": [
    "gr.show()"
   ]
  },
  {
   "cell_type": "code",
   "execution_count": 19,
   "metadata": {},
   "outputs": [],
   "source": [
    "df = gp_results_df.groupBy(\"driver_nation\")"
   ]
  },
  {
   "cell_type": "code",
   "execution_count": 20,
   "metadata": {},
   "outputs": [
    {
     "name": "stdout",
     "output_type": "stream",
     "text": [
      "+-------------+-----------+\n",
      "|driver_nation|sum(points)|\n",
      "+-------------+-----------+\n",
      "|      British|    8941.14|\n",
      "|       German|     7810.5|\n",
      "|      Finnish|     3875.5|\n",
      "|    Brazilian|     3423.0|\n",
      "|       French|    3028.33|\n",
      "|   Australian|     2561.5|\n",
      "|      Spanish|     2248.0|\n",
      "|      Italian|    2030.66|\n",
      "|     American|      996.0|\n",
      "|     Austrian|      990.5|\n",
      "|        Dutch|      975.0|\n",
      "|    Argentine|     695.92|\n",
      "|      Mexican|      675.0|\n",
      "|New Zealander|      541.5|\n",
      "|     Canadian|      409.0|\n",
      "|      Swedish|      396.0|\n",
      "|      Belgian|      388.0|\n",
      "|        Swiss|      348.0|\n",
      "|   Monegasque|      307.0|\n",
      "|    Colombian|      307.0|\n",
      "+-------------+-----------+\n",
      "only showing top 20 rows\n",
      "\n"
     ]
    }
   ],
   "source": [
    "df.sum(\"points\").orderBy(col(\"sum(points)\").desc()).show()"
   ]
  },
  {
   "cell_type": "code",
   "execution_count": 21,
   "metadata": {},
   "outputs": [],
   "source": [
    "circutis_laps_df = lT.join(dr, lT.driverId == dr.driverId, how=\"inner\") \\\n",
    "    .join(ra, lT.raceId == ra.raceId, how=\"inner\") \\\n",
    "    .join(ci, ra.circuitId == ci.circuitId, how=\"inner\") \\\n",
    "    .where(col(\"milliseconds\").isNotNull()) \\\n",
    "    .select(\n",
    "        ci.circuitRef.alias(\"circuit\"),\n",
    "        ra.year.alias(\"season\"),\n",
    "        dr.driverRef.alias(\"driver\"),\n",
    "        lT.time.alias(\"time_str\"),\n",
    "        lT.milliseconds.alias(\"time_ms\")\n",
    ")\n",
    "cl = circutis_laps_df.alias(\"cl\")"
   ]
  },
  {
   "cell_type": "code",
   "execution_count": 22,
   "metadata": {},
   "outputs": [
    {
     "name": "stdout",
     "output_type": "stream",
     "text": [
      "+-------+------+--------------+--------+-------+\n",
      "|circuit|season|        driver|time_str|time_ms|\n",
      "+-------+------+--------------+--------+-------+\n",
      "| ricard|  2019|max_verstappen|1:45.972| 105972|\n",
      "| ricard|  2019|max_verstappen|1:37.252|  97252|\n",
      "| ricard|  2019|max_verstappen|1:37.465|  97465|\n",
      "| ricard|  2019|max_verstappen|1:37.105|  97105|\n",
      "| ricard|  2019|max_verstappen|1:36.865|  96865|\n",
      "| ricard|  2019|max_verstappen|1:36.427|  96427|\n",
      "| ricard|  2019|max_verstappen|1:36.522|  96522|\n",
      "| ricard|  2019|max_verstappen|1:36.618|  96618|\n",
      "| ricard|  2019|max_verstappen|1:36.265|  96265|\n",
      "| ricard|  2019|max_verstappen|1:36.353|  96353|\n",
      "| ricard|  2019|max_verstappen|1:36.039|  96039|\n",
      "| ricard|  2019|max_verstappen|1:36.009|  96009|\n",
      "| ricard|  2019|max_verstappen|1:36.075|  96075|\n",
      "| ricard|  2019|max_verstappen|1:35.876|  95876|\n",
      "| ricard|  2019|max_verstappen|1:36.011|  96011|\n",
      "| ricard|  2019|max_verstappen|1:36.038|  96038|\n",
      "| ricard|  2019|max_verstappen|1:36.272|  96272|\n",
      "| ricard|  2019|max_verstappen|1:36.182|  96182|\n",
      "| ricard|  2019|max_verstappen|1:36.546|  96546|\n",
      "| ricard|  2019|max_verstappen|1:56.028| 116028|\n",
      "+-------+------+--------------+--------+-------+\n",
      "only showing top 20 rows\n",
      "\n"
     ]
    }
   ],
   "source": [
    "cl.show()"
   ]
  },
  {
   "cell_type": "markdown",
   "metadata": {},
   "source": [
    "# Write data to the Vertica"
   ]
  },
  {
   "cell_type": "code",
   "execution_count": 23,
   "metadata": {},
   "outputs": [],
   "source": [
    "opts_gr={\n",
    "    \"table\": \"gp_results\",\n",
    "    \"db\": \"docker\",\n",
    "    \"user\": \"dbadmin\",\n",
    "    \"password\": \"\",\n",
    "    \"host\": \"vertica\"\n",
    "}"
   ]
  },
  {
   "cell_type": "code",
   "execution_count": 24,
   "metadata": {},
   "outputs": [
    {
     "ename": "Py4JJavaError",
     "evalue": "An error occurred while calling o205.save.\n: java.lang.Exception: ERROR: S2V.save(): did not pass the Vertica requirements pre-check.  The following problems were encountered: hdfs_url scheme should be 'hdfs', but user provided:null. hdfs_url path is not valid, user provided:. java.lang.IllegalArgumentException: Can not create a Path from an empty string\n\tat com.vertica.spark.s2v.S2V.save(S2V.scala:384)\n\tat com.vertica.spark.datasource.DefaultSource.createRelation(VerticaSource.scala:88)\n\tat org.apache.spark.sql.execution.datasources.SaveIntoDataSourceCommand.run(SaveIntoDataSourceCommand.scala:45)\n\tat org.apache.spark.sql.execution.command.ExecutedCommandExec.sideEffectResult$lzycompute(commands.scala:70)\n\tat org.apache.spark.sql.execution.command.ExecutedCommandExec.sideEffectResult(commands.scala:68)\n\tat org.apache.spark.sql.execution.command.ExecutedCommandExec.doExecute(commands.scala:86)\n\tat org.apache.spark.sql.execution.SparkPlan$$anonfun$execute$1.apply(SparkPlan.scala:131)\n\tat org.apache.spark.sql.execution.SparkPlan$$anonfun$execute$1.apply(SparkPlan.scala:127)\n\tat org.apache.spark.sql.execution.SparkPlan$$anonfun$executeQuery$1.apply(SparkPlan.scala:155)\n\tat org.apache.spark.rdd.RDDOperationScope$.withScope(RDDOperationScope.scala:151)\n\tat org.apache.spark.sql.execution.SparkPlan.executeQuery(SparkPlan.scala:152)\n\tat org.apache.spark.sql.execution.SparkPlan.execute(SparkPlan.scala:127)\n\tat org.apache.spark.sql.execution.QueryExecution.toRdd$lzycompute(QueryExecution.scala:83)\n\tat org.apache.spark.sql.execution.QueryExecution.toRdd(QueryExecution.scala:81)\n\tat org.apache.spark.sql.DataFrameWriter$$anonfun$runCommand$1.apply(DataFrameWriter.scala:676)\n\tat org.apache.spark.sql.DataFrameWriter$$anonfun$runCommand$1.apply(DataFrameWriter.scala:676)\n\tat org.apache.spark.sql.execution.SQLExecution$$anonfun$withNewExecutionId$1.apply(SQLExecution.scala:80)\n\tat org.apache.spark.sql.execution.SQLExecution$.withSQLConfPropagated(SQLExecution.scala:127)\n\tat org.apache.spark.sql.execution.SQLExecution$.withNewExecutionId(SQLExecution.scala:75)\n\tat org.apache.spark.sql.DataFrameWriter.runCommand(DataFrameWriter.scala:676)\n\tat org.apache.spark.sql.DataFrameWriter.saveToV1Source(DataFrameWriter.scala:285)\n\tat org.apache.spark.sql.DataFrameWriter.save(DataFrameWriter.scala:271)\n\tat sun.reflect.NativeMethodAccessorImpl.invoke0(Native Method)\n\tat sun.reflect.NativeMethodAccessorImpl.invoke(NativeMethodAccessorImpl.java:62)\n\tat sun.reflect.DelegatingMethodAccessorImpl.invoke(DelegatingMethodAccessorImpl.java:43)\n\tat java.lang.reflect.Method.invoke(Method.java:498)\n\tat py4j.reflection.MethodInvoker.invoke(MethodInvoker.java:244)\n\tat py4j.reflection.ReflectionEngine.invoke(ReflectionEngine.java:357)\n\tat py4j.Gateway.invoke(Gateway.java:282)\n\tat py4j.commands.AbstractCommand.invokeMethod(AbstractCommand.java:132)\n\tat py4j.commands.CallCommand.execute(CallCommand.java:79)\n\tat py4j.GatewayConnection.run(GatewayConnection.java:238)\n\tat java.lang.Thread.run(Thread.java:748)\n",
     "output_type": "error",
     "traceback": [
      "\u001b[0;31m---------------------------------------------------------------------------\u001b[0m",
      "\u001b[0;31mPy4JJavaError\u001b[0m                             Traceback (most recent call last)",
      "\u001b[0;32m<ipython-input-24-34754e83f621>\u001b[0m in \u001b[0;36m<module>\u001b[0;34m\u001b[0m\n\u001b[0;32m----> 1\u001b[0;31m \u001b[0mgr\u001b[0m\u001b[0;34m.\u001b[0m\u001b[0mwrite\u001b[0m\u001b[0;34m.\u001b[0m\u001b[0msave\u001b[0m\u001b[0;34m(\u001b[0m\u001b[0mformat\u001b[0m\u001b[0;34m=\u001b[0m\u001b[0;34m\"com.vertica.spark.datasource.DefaultSource\"\u001b[0m\u001b[0;34m,\u001b[0m \u001b[0mmode\u001b[0m\u001b[0;34m=\u001b[0m\u001b[0;34m\"overwrite\"\u001b[0m\u001b[0;34m,\u001b[0m \u001b[0;34m**\u001b[0m\u001b[0mopts_gr\u001b[0m\u001b[0;34m)\u001b[0m\u001b[0;34m\u001b[0m\u001b[0;34m\u001b[0m\u001b[0m\n\u001b[0m",
      "\u001b[0;32m/usr/local/spark/python/pyspark/sql/readwriter.py\u001b[0m in \u001b[0;36msave\u001b[0;34m(self, path, format, mode, partitionBy, **options)\u001b[0m\n\u001b[1;32m    735\u001b[0m             \u001b[0mself\u001b[0m\u001b[0;34m.\u001b[0m\u001b[0mformat\u001b[0m\u001b[0;34m(\u001b[0m\u001b[0mformat\u001b[0m\u001b[0;34m)\u001b[0m\u001b[0;34m\u001b[0m\u001b[0;34m\u001b[0m\u001b[0m\n\u001b[1;32m    736\u001b[0m         \u001b[0;32mif\u001b[0m \u001b[0mpath\u001b[0m \u001b[0;32mis\u001b[0m \u001b[0;32mNone\u001b[0m\u001b[0;34m:\u001b[0m\u001b[0;34m\u001b[0m\u001b[0;34m\u001b[0m\u001b[0m\n\u001b[0;32m--> 737\u001b[0;31m             \u001b[0mself\u001b[0m\u001b[0;34m.\u001b[0m\u001b[0m_jwrite\u001b[0m\u001b[0;34m.\u001b[0m\u001b[0msave\u001b[0m\u001b[0;34m(\u001b[0m\u001b[0;34m)\u001b[0m\u001b[0;34m\u001b[0m\u001b[0;34m\u001b[0m\u001b[0m\n\u001b[0m\u001b[1;32m    738\u001b[0m         \u001b[0;32melse\u001b[0m\u001b[0;34m:\u001b[0m\u001b[0;34m\u001b[0m\u001b[0;34m\u001b[0m\u001b[0m\n\u001b[1;32m    739\u001b[0m             \u001b[0mself\u001b[0m\u001b[0;34m.\u001b[0m\u001b[0m_jwrite\u001b[0m\u001b[0;34m.\u001b[0m\u001b[0msave\u001b[0m\u001b[0;34m(\u001b[0m\u001b[0mpath\u001b[0m\u001b[0;34m)\u001b[0m\u001b[0;34m\u001b[0m\u001b[0;34m\u001b[0m\u001b[0m\n",
      "\u001b[0;32m/usr/local/spark/python/lib/py4j-0.10.7-src.zip/py4j/java_gateway.py\u001b[0m in \u001b[0;36m__call__\u001b[0;34m(self, *args)\u001b[0m\n\u001b[1;32m   1255\u001b[0m         \u001b[0manswer\u001b[0m \u001b[0;34m=\u001b[0m \u001b[0mself\u001b[0m\u001b[0;34m.\u001b[0m\u001b[0mgateway_client\u001b[0m\u001b[0;34m.\u001b[0m\u001b[0msend_command\u001b[0m\u001b[0;34m(\u001b[0m\u001b[0mcommand\u001b[0m\u001b[0;34m)\u001b[0m\u001b[0;34m\u001b[0m\u001b[0;34m\u001b[0m\u001b[0m\n\u001b[1;32m   1256\u001b[0m         return_value = get_return_value(\n\u001b[0;32m-> 1257\u001b[0;31m             answer, self.gateway_client, self.target_id, self.name)\n\u001b[0m\u001b[1;32m   1258\u001b[0m \u001b[0;34m\u001b[0m\u001b[0m\n\u001b[1;32m   1259\u001b[0m         \u001b[0;32mfor\u001b[0m \u001b[0mtemp_arg\u001b[0m \u001b[0;32min\u001b[0m \u001b[0mtemp_args\u001b[0m\u001b[0;34m:\u001b[0m\u001b[0;34m\u001b[0m\u001b[0;34m\u001b[0m\u001b[0m\n",
      "\u001b[0;32m/usr/local/spark/python/pyspark/sql/utils.py\u001b[0m in \u001b[0;36mdeco\u001b[0;34m(*a, **kw)\u001b[0m\n\u001b[1;32m     61\u001b[0m     \u001b[0;32mdef\u001b[0m \u001b[0mdeco\u001b[0m\u001b[0;34m(\u001b[0m\u001b[0;34m*\u001b[0m\u001b[0ma\u001b[0m\u001b[0;34m,\u001b[0m \u001b[0;34m**\u001b[0m\u001b[0mkw\u001b[0m\u001b[0;34m)\u001b[0m\u001b[0;34m:\u001b[0m\u001b[0;34m\u001b[0m\u001b[0;34m\u001b[0m\u001b[0m\n\u001b[1;32m     62\u001b[0m         \u001b[0;32mtry\u001b[0m\u001b[0;34m:\u001b[0m\u001b[0;34m\u001b[0m\u001b[0;34m\u001b[0m\u001b[0m\n\u001b[0;32m---> 63\u001b[0;31m             \u001b[0;32mreturn\u001b[0m \u001b[0mf\u001b[0m\u001b[0;34m(\u001b[0m\u001b[0;34m*\u001b[0m\u001b[0ma\u001b[0m\u001b[0;34m,\u001b[0m \u001b[0;34m**\u001b[0m\u001b[0mkw\u001b[0m\u001b[0;34m)\u001b[0m\u001b[0;34m\u001b[0m\u001b[0;34m\u001b[0m\u001b[0m\n\u001b[0m\u001b[1;32m     64\u001b[0m         \u001b[0;32mexcept\u001b[0m \u001b[0mpy4j\u001b[0m\u001b[0;34m.\u001b[0m\u001b[0mprotocol\u001b[0m\u001b[0;34m.\u001b[0m\u001b[0mPy4JJavaError\u001b[0m \u001b[0;32mas\u001b[0m \u001b[0me\u001b[0m\u001b[0;34m:\u001b[0m\u001b[0;34m\u001b[0m\u001b[0;34m\u001b[0m\u001b[0m\n\u001b[1;32m     65\u001b[0m             \u001b[0ms\u001b[0m \u001b[0;34m=\u001b[0m \u001b[0me\u001b[0m\u001b[0;34m.\u001b[0m\u001b[0mjava_exception\u001b[0m\u001b[0;34m.\u001b[0m\u001b[0mtoString\u001b[0m\u001b[0;34m(\u001b[0m\u001b[0;34m)\u001b[0m\u001b[0;34m\u001b[0m\u001b[0;34m\u001b[0m\u001b[0m\n",
      "\u001b[0;32m/usr/local/spark/python/lib/py4j-0.10.7-src.zip/py4j/protocol.py\u001b[0m in \u001b[0;36mget_return_value\u001b[0;34m(answer, gateway_client, target_id, name)\u001b[0m\n\u001b[1;32m    326\u001b[0m                 raise Py4JJavaError(\n\u001b[1;32m    327\u001b[0m                     \u001b[0;34m\"An error occurred while calling {0}{1}{2}.\\n\"\u001b[0m\u001b[0;34m.\u001b[0m\u001b[0;34m\u001b[0m\u001b[0;34m\u001b[0m\u001b[0m\n\u001b[0;32m--> 328\u001b[0;31m                     format(target_id, \".\", name), value)\n\u001b[0m\u001b[1;32m    329\u001b[0m             \u001b[0;32melse\u001b[0m\u001b[0;34m:\u001b[0m\u001b[0;34m\u001b[0m\u001b[0;34m\u001b[0m\u001b[0m\n\u001b[1;32m    330\u001b[0m                 raise Py4JError(\n",
      "\u001b[0;31mPy4JJavaError\u001b[0m: An error occurred while calling o205.save.\n: java.lang.Exception: ERROR: S2V.save(): did not pass the Vertica requirements pre-check.  The following problems were encountered: hdfs_url scheme should be 'hdfs', but user provided:null. hdfs_url path is not valid, user provided:. java.lang.IllegalArgumentException: Can not create a Path from an empty string\n\tat com.vertica.spark.s2v.S2V.save(S2V.scala:384)\n\tat com.vertica.spark.datasource.DefaultSource.createRelation(VerticaSource.scala:88)\n\tat org.apache.spark.sql.execution.datasources.SaveIntoDataSourceCommand.run(SaveIntoDataSourceCommand.scala:45)\n\tat org.apache.spark.sql.execution.command.ExecutedCommandExec.sideEffectResult$lzycompute(commands.scala:70)\n\tat org.apache.spark.sql.execution.command.ExecutedCommandExec.sideEffectResult(commands.scala:68)\n\tat org.apache.spark.sql.execution.command.ExecutedCommandExec.doExecute(commands.scala:86)\n\tat org.apache.spark.sql.execution.SparkPlan$$anonfun$execute$1.apply(SparkPlan.scala:131)\n\tat org.apache.spark.sql.execution.SparkPlan$$anonfun$execute$1.apply(SparkPlan.scala:127)\n\tat org.apache.spark.sql.execution.SparkPlan$$anonfun$executeQuery$1.apply(SparkPlan.scala:155)\n\tat org.apache.spark.rdd.RDDOperationScope$.withScope(RDDOperationScope.scala:151)\n\tat org.apache.spark.sql.execution.SparkPlan.executeQuery(SparkPlan.scala:152)\n\tat org.apache.spark.sql.execution.SparkPlan.execute(SparkPlan.scala:127)\n\tat org.apache.spark.sql.execution.QueryExecution.toRdd$lzycompute(QueryExecution.scala:83)\n\tat org.apache.spark.sql.execution.QueryExecution.toRdd(QueryExecution.scala:81)\n\tat org.apache.spark.sql.DataFrameWriter$$anonfun$runCommand$1.apply(DataFrameWriter.scala:676)\n\tat org.apache.spark.sql.DataFrameWriter$$anonfun$runCommand$1.apply(DataFrameWriter.scala:676)\n\tat org.apache.spark.sql.execution.SQLExecution$$anonfun$withNewExecutionId$1.apply(SQLExecution.scala:80)\n\tat org.apache.spark.sql.execution.SQLExecution$.withSQLConfPropagated(SQLExecution.scala:127)\n\tat org.apache.spark.sql.execution.SQLExecution$.withNewExecutionId(SQLExecution.scala:75)\n\tat org.apache.spark.sql.DataFrameWriter.runCommand(DataFrameWriter.scala:676)\n\tat org.apache.spark.sql.DataFrameWriter.saveToV1Source(DataFrameWriter.scala:285)\n\tat org.apache.spark.sql.DataFrameWriter.save(DataFrameWriter.scala:271)\n\tat sun.reflect.NativeMethodAccessorImpl.invoke0(Native Method)\n\tat sun.reflect.NativeMethodAccessorImpl.invoke(NativeMethodAccessorImpl.java:62)\n\tat sun.reflect.DelegatingMethodAccessorImpl.invoke(DelegatingMethodAccessorImpl.java:43)\n\tat java.lang.reflect.Method.invoke(Method.java:498)\n\tat py4j.reflection.MethodInvoker.invoke(MethodInvoker.java:244)\n\tat py4j.reflection.ReflectionEngine.invoke(ReflectionEngine.java:357)\n\tat py4j.Gateway.invoke(Gateway.java:282)\n\tat py4j.commands.AbstractCommand.invokeMethod(AbstractCommand.java:132)\n\tat py4j.commands.CallCommand.execute(CallCommand.java:79)\n\tat py4j.GatewayConnection.run(GatewayConnection.java:238)\n\tat java.lang.Thread.run(Thread.java:748)\n"
     ]
    }
   ],
   "source": [
    "gr.write.save(format=\"com.vertica.spark.datasource.DefaultSource\", mode=\"overwrite\", **opts_gr)"
   ]
  }
 ],
 "metadata": {
  "kernelspec": {
   "display_name": "Python 3",
   "language": "python",
   "name": "python3"
  },
  "language_info": {
   "codemirror_mode": {
    "name": "ipython",
    "version": 3
   },
   "file_extension": ".py",
   "mimetype": "text/x-python",
   "name": "python",
   "nbconvert_exporter": "python",
   "pygments_lexer": "ipython3",
   "version": "3.7.6"
  }
 },
 "nbformat": 4,
 "nbformat_minor": 4
}
